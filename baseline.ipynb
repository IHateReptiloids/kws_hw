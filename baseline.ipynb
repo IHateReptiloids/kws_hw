{
  "cells": [
    {
      "cell_type": "code",
      "execution_count": null,
      "metadata": {
        "id": "A3sSnj6MGESk"
      },
      "outputs": [],
      "source": [
        "%load_ext autoreload\n",
        "%autoreload 2"
      ]
    },
    {
      "cell_type": "code",
      "execution_count": null,
      "metadata": {
        "id": "h7gRQatdI_ZQ"
      },
      "outputs": [],
      "source": [
        "import os\n",
        "# to make torch.use_deterministic_algorithms(True) work\n",
        "os.environ.update({'CUBLAS_WORKSPACE_CONFIG': ':4096:8'})"
      ]
    },
    {
      "cell_type": "code",
      "execution_count": null,
      "metadata": {
        "id": "ads-wY3eGESm"
      },
      "outputs": [],
      "source": [
        "import random\n",
        "\n",
        "import numpy as np\n",
        "import torch\n",
        "\n",
        "\n",
        "seed = 3407\n",
        "_ = torch.manual_seed(seed)\n",
        "rng = np.random.default_rng(seed)\n",
        "random.seed(seed)\n",
        "torch.use_deterministic_algorithms(True)"
      ]
    },
    {
      "cell_type": "code",
      "execution_count": null,
      "metadata": {
        "id": "bbUpoArCqUYa"
      },
      "outputs": [],
      "source": [
        "from src.augmentations import DefaultWaveAugmentations, DefaultWave2Spec\n",
        "from src.configs import DefaultConfig\n",
        "from src.data_utils import Collator, get_sampler, SpeechCommandsDataset\n",
        "from src.metrics import count_FA_FR, get_au_fa_fr\n",
        "from src.models import CRNN\n",
        "from src.train_utils import count_parameters, train"
      ]
    },
    {
      "cell_type": "code",
      "execution_count": null,
      "metadata": {
        "id": "487hddCYGESn"
      },
      "outputs": [],
      "source": [
        "DATA_DIR = 'data/speech_commands'"
      ]
    },
    {
      "cell_type": "code",
      "execution_count": null,
      "metadata": {
        "id": "-1rVkT81Pk90"
      },
      "outputs": [],
      "source": [
        "dataset = SpeechCommandsDataset(\n",
        "    path2dir=DATA_DIR, keywords=DefaultConfig.keyword\n",
        ")"
      ]
    },
    {
      "cell_type": "code",
      "execution_count": null,
      "metadata": {
        "id": "ClWThxyYh9pM"
      },
      "outputs": [],
      "source": [
        "indexes = torch.randperm(len(dataset))\n",
        "train_indexes = indexes[:int(len(dataset) * 0.8)]\n",
        "val_indexes = indexes[int(len(dataset) * 0.8):]\n",
        "\n",
        "train_df = dataset.csv.iloc[train_indexes].reset_index(drop=True)\n",
        "val_df = dataset.csv.iloc[val_indexes].reset_index(drop=True)\n",
        "train_set = SpeechCommandsDataset(csv=train_df, transform=DefaultWaveAugmentations(DATA_DIR))\n",
        "val_set = SpeechCommandsDataset(csv=val_df)"
      ]
    },
    {
      "cell_type": "code",
      "execution_count": null,
      "metadata": {
        "id": "UM8gLmHeqUYj"
      },
      "outputs": [],
      "source": [
        "train_sampler = get_sampler(train_set.csv['label'].values)\n",
        "val_sampler = get_sampler(val_set.csv['label'].values)\n",
        "\n",
        "train_loader = torch.utils.data.DataLoader(train_set, batch_size=DefaultConfig.batch_size,\n",
        "                          shuffle=False, collate_fn=Collator(),\n",
        "                          sampler=train_sampler,\n",
        "                          num_workers=2, pin_memory=True)\n",
        "\n",
        "val_loader = torch.utils.data.DataLoader(val_set, batch_size=DefaultConfig.batch_size,\n",
        "                        shuffle=False, collate_fn=Collator(),\n",
        "                        sampler=val_sampler,\n",
        "                        num_workers=2, pin_memory=True)"
      ]
    },
    {
      "cell_type": "code",
      "execution_count": null,
      "metadata": {
        "id": "Pqkz4_gn8BiF"
      },
      "outputs": [],
      "source": [
        "train_wave2spec = DefaultWave2Spec(is_train=True, config=DefaultConfig)\n",
        "val_wave2spec = DefaultWave2Spec(is_train=False, config=DefaultConfig)"
      ]
    },
    {
      "cell_type": "code",
      "execution_count": null,
      "metadata": {
        "colab": {
          "base_uri": "https://localhost:8080/"
        },
        "id": "Q8sVpHNoocgA",
        "outputId": "19214003-8422-4b13-8a0b-21be0f5ca3b0"
      },
      "outputs": [],
      "source": [
        "config = DefaultConfig()\n",
        "model = CRNN(config).to(config.device)\n",
        "\n",
        "print(model)\n",
        "\n",
        "opt = torch.optim.Adam(\n",
        "    model.parameters(),\n",
        "    lr=config.learning_rate,\n",
        "    weight_decay=config.weight_decay\n",
        ")"
      ]
    },
    {
      "cell_type": "code",
      "execution_count": null,
      "metadata": {
        "colab": {
          "base_uri": "https://localhost:8080/"
        },
        "id": "zedXm9dmINAE",
        "outputId": "9074756e-27a4-4812-8a39-d8e0cd75ab1e"
      },
      "outputs": [],
      "source": [
        "count_parameters(model)"
      ]
    },
    {
      "cell_type": "code",
      "execution_count": null,
      "metadata": {
        "colab": {
          "base_uri": "https://localhost:8080/",
          "height": 296
        },
        "id": "32oooz4lqUYo",
        "outputId": "59de37db-9f9b-443b-e9ad-d048493df9e3",
        "scrolled": false
      },
      "outputs": [],
      "source": [
        "best_score, best_model = train(\n",
        "    config.num_epochs,\n",
        "    model,\n",
        "    opt,\n",
        "    (train_loader, val_loader),\n",
        "    (train_wave2spec, val_wave2spec),\n",
        "    config.device,\n",
        "    make_plots=True,\n",
        ")"
      ]
    },
    {
      "cell_type": "code",
      "execution_count": null,
      "metadata": {
        "id": "X1rpU6JLGESr"
      },
      "outputs": [],
      "source": [
        "torch.save(best_model, 'baseline.pth')"
      ]
    }
  ],
  "metadata": {
    "colab": {
      "collapsed_sections": [],
      "name": "baseline.ipynb",
      "provenance": []
    },
    "kernelspec": {
      "display_name": "Python 3 (ipykernel)",
      "language": "python",
      "name": "python3"
    },
    "language_info": {
      "codemirror_mode": {
        "name": "ipython",
        "version": 3
      },
      "file_extension": ".py",
      "mimetype": "text/x-python",
      "name": "python",
      "nbconvert_exporter": "python",
      "pygments_lexer": "ipython3",
      "version": "3.9.7"
    }
  },
  "nbformat": 4,
  "nbformat_minor": 0
}
