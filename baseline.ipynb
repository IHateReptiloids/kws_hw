{
  "cells": [
    {
      "cell_type": "code",
      "execution_count": 1,
      "metadata": {
        "id": "A3sSnj6MGESk"
      },
      "outputs": [],
      "source": [
        "%load_ext autoreload\n",
        "%autoreload 2"
      ]
    },
    {
      "cell_type": "code",
      "execution_count": 2,
      "metadata": {
        "id": "h7gRQatdI_ZQ"
      },
      "outputs": [],
      "source": [
        "import os\n",
        "# to make torch.use_deterministic_algorithms(True) work\n",
        "os.environ.update({'CUBLAS_WORKSPACE_CONFIG': ':4096:8'})"
      ]
    },
    {
      "cell_type": "code",
      "execution_count": 3,
      "metadata": {
        "id": "ads-wY3eGESm"
      },
      "outputs": [],
      "source": [
        "from pathlib import Path\n",
        "import random\n",
        "\n",
        "import numpy as np\n",
        "import pandas as pd\n",
        "import torch\n",
        "\n",
        "\n",
        "seed = 3407\n",
        "_ = torch.manual_seed(seed)\n",
        "rng = np.random.default_rng(seed)\n",
        "random.seed(seed)\n",
        "torch.use_deterministic_algorithms(True)"
      ]
    },
    {
      "cell_type": "code",
      "execution_count": 4,
      "metadata": {
        "id": "bbUpoArCqUYa"
      },
      "outputs": [],
      "source": [
        "from src.augmentations import DefaultWaveAugmentations, DefaultWave2Spec\n",
        "from src.configs import DefaultConfig\n",
        "from src.data_utils import get_dataloaders, SpeechCommandsDataset\n",
        "from src.models import CRNN\n",
        "from src.trainers import DefaultTrainer\n",
        "from src.utils import count_parameters"
      ]
    },
    {
      "cell_type": "code",
      "execution_count": 5,
      "metadata": {
        "id": "487hddCYGESn"
      },
      "outputs": [],
      "source": [
        "CHECKPOINT_PATH = Path('checkpoints/baseline.pth')\n",
        "DATA_DIR = Path('data/speech_commands')\n",
        "TRAIN_CSV = Path('data/train.csv')\n",
        "VAL_CSV = Path('data/val.csv')\n",
        "\n",
        "config = DefaultConfig()"
      ]
    },
    {
      "cell_type": "code",
      "execution_count": 6,
      "metadata": {
        "id": "X-WWc7FGSU-G"
      },
      "outputs": [],
      "source": [
        "train_set = SpeechCommandsDataset(DATA_DIR, csv=pd.read_csv(TRAIN_CSV))\n",
        "train_set.transforms = DefaultWaveAugmentations(DATA_DIR)\n",
        "\n",
        "val_set = SpeechCommandsDataset(DATA_DIR, csv=pd.read_csv(VAL_CSV))\n",
        "train_loader, val_loader = get_dataloaders(train_set, val_set, config.batch_size)\n",
        "\n",
        "train_wave2spec = DefaultWave2Spec(is_train=True, config=config)\n",
        "val_wave2spec = DefaultWave2Spec(is_train=False, config=config)"
      ]
    },
    {
      "cell_type": "code",
      "execution_count": 7,
      "metadata": {
        "colab": {
          "base_uri": "https://localhost:8080/"
        },
        "id": "Q8sVpHNoocgA",
        "outputId": "50ff7607-f889-4664-da39-5fe6c34cb6fc"
      },
      "outputs": [
        {
          "name": "stdout",
          "output_type": "stream",
          "text": [
            "CRNN(\n",
            "  (conv): Sequential(\n",
            "    (0): Conv2d(1, 8, kernel_size=(5, 20), stride=(2, 8))\n",
            "    (1): Flatten(start_dim=1, end_dim=2)\n",
            "  )\n",
            "  (gru): GRU(144, 64, num_layers=2, batch_first=True, dropout=0.1)\n",
            "  (attention): Attention(\n",
            "    (energy): Sequential(\n",
            "      (0): Linear(in_features=64, out_features=64, bias=True)\n",
            "      (1): Tanh()\n",
            "      (2): Linear(in_features=64, out_features=1, bias=True)\n",
            "    )\n",
            "  )\n",
            "  (classifier): Linear(in_features=64, out_features=2, bias=True)\n",
            ")\n"
          ]
        }
      ],
      "source": [
        "model = CRNN(config).to(config.device)\n",
        "\n",
        "print(model)\n",
        "\n",
        "opt = torch.optim.Adam(\n",
        "    model.parameters(),\n",
        "    lr=config.learning_rate,\n",
        "    weight_decay=config.weight_decay\n",
        ")"
      ]
    },
    {
      "cell_type": "code",
      "execution_count": 8,
      "metadata": {
        "colab": {
          "base_uri": "https://localhost:8080/"
        },
        "id": "zedXm9dmINAE",
        "outputId": "67c09763-d7a5-413a-c7e7-8ee92b14357e"
      },
      "outputs": [
        {
          "data": {
            "text/plain": [
              "70443"
            ]
          },
          "execution_count": 8,
          "metadata": {},
          "output_type": "execute_result"
        }
      ],
      "source": [
        "count_parameters(model)"
      ]
    },
    {
      "cell_type": "code",
      "execution_count": 9,
      "metadata": {
        "colab": {
          "base_uri": "https://localhost:8080/",
          "height": 296
        },
        "id": "2RvnxCOq4huF",
        "outputId": "3abfe915-4f78-4760-bf49-1fae37488cff"
      },
      "outputs": [
        {
          "data": {
            "image/png": "[encoded data removed]",
            "text/plain": [
              "<Figure size 432x288 with 1 Axes>"
            ]
          },
          "metadata": {
            "needs_background": "light"
          },
          "output_type": "display_data"
        },
        {
          "name": "stdout",
          "output_type": "stream",
          "text": [
            "END OF EPOCH 20\n"
          ]
        }
      ],
      "source": [
        "trainer = DefaultTrainer(\n",
        "    opt=torch.optim.Adam(model.parameters(), lr=config.learning_rate, weight_decay=config.weight_decay),\n",
        "    train_loader=train_loader,\n",
        "    val_loader=val_loader,\n",
        "    device=config.device,\n",
        "    model=model,\n",
        "    train_wave2spec=train_wave2spec,\n",
        "    val_wave2spec=val_wave2spec,\n",
        ")\n",
        "trainer.train(n_epochs=config.num_epochs)"
      ]
    },
    {
      "cell_type": "code",
      "execution_count": 10,
      "metadata": {
        "id": "X1rpU6JLGESr"
      },
      "outputs": [],
      "source": [
        "if not CHECKPOINT_PATH.parent.exists():\n",
        "    CHECKPOINT_PATH.parent.mkdir()\n",
        "torch.save(trainer.best_state, str(CHECKPOINT_PATH))"
      ]
    },
    {
      "cell_type": "code",
      "execution_count": 11,
      "metadata": {
        "colab": {
          "base_uri": "https://localhost:8080/"
        },
        "id": "nywrh_Vx0Qto",
        "outputId": "52547777-c820-42b3-cb2c-4fdfaa0f8242"
      },
      "outputs": [
        {
          "data": {
            "text/plain": [
              "1.71149264626571e-05"
            ]
          },
          "execution_count": 11,
          "metadata": {},
          "output_type": "execute_result"
        }
      ],
      "source": [
        "trainer.best_score"
      ]
    }
  ],
  "metadata": {
    "accelerator": "GPU",
    "colab": {
      "collapsed_sections": [],
      "name": "baseline.ipynb",
      "provenance": []
    },
    "kernelspec": {
      "display_name": "Python 3 (ipykernel)",
      "language": "python",
      "name": "python3"
    },
    "language_info": {
      "codemirror_mode": {
        "name": "ipython",
        "version": 3
      },
      "file_extension": ".py",
      "mimetype": "text/x-python",
      "name": "python",
      "nbconvert_exporter": "python",
      "pygments_lexer": "ipython3",
      "version": "3.9.7"
    }
  },
  "nbformat": 4,
  "nbformat_minor": 0
}
