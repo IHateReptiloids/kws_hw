{
 "cells": [
  {
   "cell_type": "markdown",
   "metadata": {},
   "source": [
    "## Инициализация"
   ]
  },
  {
   "cell_type": "code",
   "execution_count": 1,
   "metadata": {},
   "outputs": [],
   "source": [
    "%load_ext autoreload\n",
    "%autoreload 2"
   ]
  },
  {
   "cell_type": "code",
   "execution_count": 2,
   "metadata": {},
   "outputs": [],
   "source": [
    "import os\n",
    "# to make torch.use_deterministic_algorithms(True) work\n",
    "os.environ.update({'CUBLAS_WORKSPACE_CONFIG': ':4096:8'})"
   ]
  },
  {
   "cell_type": "code",
   "execution_count": 3,
   "metadata": {},
   "outputs": [],
   "source": [
    "import random\n",
    "\n",
    "import numpy as np\n",
    "import torch\n",
    "\n",
    "\n",
    "seed = 3407\n",
    "_ = torch.manual_seed(seed)\n",
    "rng = np.random.default_rng(seed)\n",
    "random.seed(seed)\n",
    "torch.use_deterministic_algorithms(True)"
   ]
  },
  {
   "cell_type": "code",
   "execution_count": 4,
   "metadata": {},
   "outputs": [],
   "source": [
    "import torchaudio\n",
    "import matplotlib.pyplot as plt"
   ]
  },
  {
   "cell_type": "code",
   "execution_count": 5,
   "metadata": {},
   "outputs": [],
   "source": [
    "from src.augmentations import DefaultWave2Spec\n",
    "from src.configs import DefaultConfig\n",
    "from src.data_utils import SpeechCommandsDataset\n",
    "from src.models import CRNN, StreamingCRNN"
   ]
  },
  {
   "cell_type": "code",
   "execution_count": 6,
   "metadata": {},
   "outputs": [],
   "source": [
    "CHECKPOINT_DIR = 'checkpoints/baseline.pth'\n",
    "crnn_state_dict = torch.load(CHECKPOINT_DIR, map_location=torch.device('cpu'))"
   ]
  },
  {
   "cell_type": "code",
   "execution_count": 7,
   "metadata": {},
   "outputs": [],
   "source": [
    "config = DefaultConfig()\n",
    "scrnn = StreamingCRNN(window_length=20, config=config)\n",
    "scrnn.load_crnn_state_dict(crnn_state_dict)\n",
    "scrnn = scrnn.eval()"
   ]
  },
  {
   "cell_type": "markdown",
   "metadata": {},
   "source": [
    "## Эксперимент\n",
    "Давайте проведем эксперимент следующим образом: возьмем 10 аудиозаписей без ключевого слова и поместим в середину аудио с ключевым словом, склеим все это в одно аудио.\n",
    "Потом подадим все это на вход модели и посмотрим на вероятности, которые она нам выдаст."
   ]
  },
  {
   "cell_type": "code",
   "execution_count": 8,
   "metadata": {},
   "outputs": [],
   "source": [
    "DATA_DIR = 'data/speech_commands'"
   ]
  },
  {
   "cell_type": "code",
   "execution_count": 9,
   "metadata": {},
   "outputs": [],
   "source": [
    "ds = SpeechCommandsDataset(path2dir=DATA_DIR, keywords=config.keyword)"
   ]
  },
  {
   "cell_type": "code",
   "execution_count": 10,
   "metadata": {},
   "outputs": [
    {
     "data": {
      "text/plain": [
       "['data/speech_commands/no/37a3cd33_nohash_0.wav',\n",
       " 'data/speech_commands/four/2579e514_nohash_0.wav',\n",
       " 'data/speech_commands/zero/435f9f9e_nohash_1.wav',\n",
       " 'data/speech_commands/three/5a9f7324_nohash_0.wav',\n",
       " 'data/speech_commands/off/b49caed3_nohash_0.wav',\n",
       " 'data/speech_commands/house/b1de039c_nohash_2.wav',\n",
       " 'data/speech_commands/dog/6f7724f5_nohash_3.wav',\n",
       " 'data/speech_commands/off/3d53244b_nohash_2.wav',\n",
       " 'data/speech_commands/left/4ec7d027_nohash_2.wav',\n",
       " 'data/speech_commands/dog/28497c5b_nohash_1.wav']"
      ]
     },
     "execution_count": 10,
     "metadata": {},
     "output_type": "execute_result"
    }
   ],
   "source": [
    "no_kw = ds.csv[ds.csv.label == 0].path.sample(10, random_state=seed).values.tolist()\n",
    "no_kw"
   ]
  },
  {
   "cell_type": "code",
   "execution_count": 11,
   "metadata": {},
   "outputs": [
    {
     "data": {
      "text/plain": [
       "'data/speech_commands/sheila/e3b64217_nohash_0.wav'"
      ]
     },
     "execution_count": 11,
     "metadata": {},
     "output_type": "execute_result"
    }
   ],
   "source": [
    "has_kw = ds.csv[ds.csv.label == 1].path.sample(1, random_state=seed).iloc[0]\n",
    "has_kw"
   ]
  },
  {
   "cell_type": "code",
   "execution_count": 12,
   "metadata": {},
   "outputs": [],
   "source": [
    "wav = torch.cat([\n",
    "    torchaudio.load(path)[0].squeeze() for path in\n",
    "    (*no_kw[:5], has_kw, *no_kw[5:])\n",
    "])"
   ]
  },
  {
   "cell_type": "code",
   "execution_count": 13,
   "metadata": {},
   "outputs": [
    {
     "data": {
      "text/plain": [
       "torch.Size([175019])"
      ]
     },
     "execution_count": 13,
     "metadata": {},
     "output_type": "execute_result"
    }
   ],
   "source": [
    "wav.shape"
   ]
  },
  {
   "cell_type": "code",
   "execution_count": 14,
   "metadata": {},
   "outputs": [
    {
     "data": {
      "text/plain": [
       "torch.Size([1094, 40])"
      ]
     },
     "execution_count": 14,
     "metadata": {},
     "output_type": "execute_result"
    }
   ],
   "source": [
    "wave2spec = DefaultWave2Spec(is_train=False, config=config)\n",
    "spec = wave2spec(wav[None, :]).squeeze().T\n",
    "spec.shape"
   ]
  },
  {
   "cell_type": "code",
   "execution_count": 15,
   "metadata": {},
   "outputs": [],
   "source": [
    "probs = []\n",
    "scrnn.reset_streaming()\n",
    "for frame in spec:\n",
    "    probs.append(scrnn.process_frame(frame)[1].item())"
   ]
  },
  {
   "cell_type": "code",
   "execution_count": 16,
   "metadata": {},
   "outputs": [
    {
     "data": {
      "image/png": "[encoded data removed]",
      "text/plain": [
       "<Figure size 432x288 with 1 Axes>"
      ]
     },
     "metadata": {
      "needs_background": "light"
     },
     "output_type": "display_data"
    }
   ],
   "source": [
    "_ = plt.plot(probs)\n",
    "_ = plt.xlabel('Frame')\n",
    "_ = plt.ylabel('Probability of keyword')"
   ]
  },
  {
   "cell_type": "markdown",
   "metadata": {},
   "source": [
    "Как мы видим, вероятности согласуются со здравым смыслом. Сначала они равны примерно $\\frac{1}{2}$, потому что на этом этапе очень мало информации, и модель не уверена в своем предсказании.\n",
    "Примерно в середине мы видим резкий скачок, а потом вероятности снова затухают, потому что модель начинает забывать, что было ранее."
   ]
  }
 ],
 "metadata": {
  "interpreter": {
   "hash": "a1c596f1af581c66545f2345129b8c4b3c28d957ad11d5ef9aeff4b238a94ec9"
  },
  "kernelspec": {
   "display_name": "Python 3.9.7 64-bit ('kws_hw': pyenv)",
   "language": "python",
   "name": "python3"
  },
  "language_info": {
   "name": "python",
   "version": "3.9.7"
  },
  "orig_nbformat": 4
 },
 "nbformat": 4,
 "nbformat_minor": 2
}
