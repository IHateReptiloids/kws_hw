{
  "nbformat": 4,
  "nbformat_minor": 0,
  "metadata": {
    "interpreter": {
      "hash": "a1c596f1af581c66545f2345129b8c4b3c28d957ad11d5ef9aeff4b238a94ec9"
    },
    "kernelspec": {
      "display_name": "Python 3.9.7 64-bit ('kws_hw': pyenv)",
      "language": "python",
      "name": "python3"
    },
    "language_info": {
      "codemirror_mode": {
        "name": "ipython",
        "version": 3
      },
      "file_extension": ".py",
      "mimetype": "text/x-python",
      "name": "python",
      "nbconvert_exporter": "python",
      "pygments_lexer": "ipython3",
      "version": "3.9.7"
    },
    "orig_nbformat": 4,
    "colab": {
      "name": "distillation.ipynb",
      "provenance": [],
      "collapsed_sections": []
    },
    "accelerator": "GPU"
  },
  "cells": [
    {
      "cell_type": "code",
      "metadata": {
        "id": "A3sSnj6MGESk"
      },
      "source": [
        "%load_ext autoreload\n",
        "%autoreload 2"
      ],
      "execution_count": 1,
      "outputs": []
    },
    {
      "cell_type": "code",
      "metadata": {
        "id": "h7gRQatdI_ZQ"
      },
      "source": [
        "import os\n",
        "# to make torch.use_deterministic_algorithms(True) work\n",
        "os.environ.update({'CUBLAS_WORKSPACE_CONFIG': ':4096:8'})"
      ],
      "execution_count": 2,
      "outputs": []
    },
    {
      "cell_type": "code",
      "metadata": {
        "id": "bbUpoArCqUYa"
      },
      "source": [
        "from pathlib import Path\n",
        "\n",
        "import pandas as pd\n",
        "import torch\n",
        "\n",
        "from src.augmentations import DefaultWaveAugmentations, DefaultWave2Spec\n",
        "from src.configs import DefaultConfig, DistillationConfig\n",
        "from src.data_utils import get_dataloaders, SpeechCommandsDataset\n",
        "from src.models import CRNN\n",
        "from src.trainers import DefaultTrainer, DistillationTrainer\n",
        "from src.utils import count_parameters, seed_all"
      ],
      "execution_count": 3,
      "outputs": []
    },
    {
      "cell_type": "code",
      "metadata": {
        "id": "487hddCYGESn"
      },
      "source": [
        "DATA_DIR = Path('data/speech_commands')\n",
        "TRAIN_CSV = Path('data/train.csv')\n",
        "VAL_CSV = Path('data/val.csv')\n",
        "\n",
        "STUDENT_CHECKPOINT = Path('checkpoints/distillated.pth')\n",
        "TEACHER_CHECKPOINT = Path('checkpoints/baseline.pth')"
      ],
      "execution_count": 4,
      "outputs": []
    },
    {
      "cell_type": "code",
      "metadata": {
        "id": "-1rVkT81Pk90"
      },
      "source": [
        "train_set = SpeechCommandsDataset(DATA_DIR, csv=pd.read_csv(TRAIN_CSV))\n",
        "train_set.transforms = DefaultWaveAugmentations(DATA_DIR)\n",
        "\n",
        "val_set = SpeechCommandsDataset(DATA_DIR, csv=pd.read_csv(VAL_CSV))\n",
        "train_loader, val_loader = get_dataloaders(train_set, val_set, DefaultConfig.batch_size)\n",
        "\n",
        "train_wave2spec = DefaultWave2Spec(is_train=True, config=DefaultConfig)\n",
        "val_wave2spec = DefaultWave2Spec(is_train=False, config=DefaultConfig)"
      ],
      "execution_count": 5,
      "outputs": []
    },
    {
      "cell_type": "code",
      "metadata": {
        "id": "dPAh9nssE7cx"
      },
      "source": [
        "teacher_config = DefaultConfig()\n",
        "student_config = DistillationConfig(\n",
        "    num_epochs=30,\n",
        "    hidden_size=32,\n",
        ")"
      ],
      "execution_count": 6,
      "outputs": []
    },
    {
      "cell_type": "code",
      "metadata": {
        "colab": {
          "base_uri": "https://localhost:8080/"
        },
        "id": "rdTCPGneE7cy",
        "outputId": "b9aafc23-8140-4072-84ce-cd0ba118b9f6"
      },
      "source": [
        "teacher = CRNN(teacher_config)\n",
        "teacher.load_state_dict(torch.load(TEACHER_CHECKPOINT, map_location=teacher_config.device))\n",
        "teacher = teacher.eval()\n",
        "print('teacher total:', count_parameters(teacher))\n",
        "print('teacher conv:', count_parameters(teacher.conv))\n",
        "print('teacher gru:', count_parameters(teacher.gru))\n",
        "print('teacher attention:', count_parameters(teacher.attention), end='\\n\\n')\n",
        "\n",
        "student = CRNN(student_config)\n",
        "student = student.train()\n",
        "print('student total:', count_parameters(student))\n",
        "print('student conv:', count_parameters(student.conv))\n",
        "print('student gru:', count_parameters(student.gru))\n",
        "print('student attention:', count_parameters(student.attention))"
      ],
      "execution_count": 7,
      "outputs": [
        {
          "output_type": "stream",
          "name": "stdout",
          "text": [
            "teacher total: 70443\n",
            "teacher conv: 808\n",
            "teacher gru: 65280\n",
            "teacher attention: 4225\n",
            "\n",
            "student total: 25387\n",
            "student conv: 808\n",
            "student gru: 23424\n",
            "student attention: 1089\n"
          ]
        }
      ]
    },
    {
      "cell_type": "markdown",
      "metadata": {
        "id": "rFLvmLCfE7c1"
      },
      "source": [
        "Проверим, что модель учителя воспроизводит нужное качество на валидации:"
      ]
    },
    {
      "cell_type": "code",
      "metadata": {
        "colab": {
          "base_uri": "https://localhost:8080/"
        },
        "id": "WNQCc9U4E7c3",
        "outputId": "458e9b13-b9af-45e5-fe9a-8e5fa4e17243"
      },
      "source": [
        "seed_all()\n",
        "DefaultTrainer(\n",
        "    opt=None,\n",
        "    train_loader=None,\n",
        "    val_loader=val_loader,\n",
        "    device=teacher_config.device,\n",
        "    model=teacher,\n",
        "    train_wave2spec=None,\n",
        "    val_wave2spec=val_wave2spec,\n",
        ").validation()"
      ],
      "execution_count": 8,
      "outputs": [
        {
          "output_type": "stream",
          "name": "stderr",
          "text": [
            "100%|██████████| 102/102 [00:07<00:00, 12.78it/s]\n"
          ]
        },
        {
          "output_type": "execute_result",
          "data": {
            "text/plain": [
              "1.71149264626571e-05"
            ]
          },
          "metadata": {},
          "execution_count": 8
        }
      ]
    },
    {
      "cell_type": "markdown",
      "metadata": {
        "id": "tf5C3Q_-E7c4"
      },
      "source": [
        "Теперь сделаем дистилляцию:"
      ]
    },
    {
      "cell_type": "code",
      "metadata": {
        "id": "wDMRnDufE7c5"
      },
      "source": [
        "opt = torch.optim.Adam(\n",
        "    student.parameters(),\n",
        "    lr=student_config.learning_rate,\n",
        "    weight_decay=student_config.weight_decay\n",
        ")"
      ],
      "execution_count": 9,
      "outputs": []
    },
    {
      "cell_type": "code",
      "metadata": {
        "colab": {
          "base_uri": "https://localhost:8080/",
          "height": 800
        },
        "id": "xc1Nvdk6E7c6",
        "outputId": "d2fe78e8-8b31-45e1-c67d-8f5178b33fca"
      },
      "source": [
        "seed_all()\n",
        "trainer = DistillationTrainer(\n",
        "    opt=opt,\n",
        "    train_loader=train_loader,\n",
        "    val_loader=val_loader,\n",
        "    device=student_config.device,\n",
        "    teacher=teacher,\n",
        "    student=student,\n",
        "    train_wave2spec=train_wave2spec,\n",
        "    val_wave2spec=val_wave2spec,\n",
        "    temp=student_config.temp,\n",
        "    alpha=student_config.alpha,\n",
        ")\n",
        "trainer.train(n_epochs=student_config.num_epochs)"
      ],
      "execution_count": 10,
      "outputs": [
        {
          "output_type": "display_data",
          "data": {
            "image/png": "[encoded data removed]",
            "text/plain": [
              "<Figure size 432x288 with 1 Axes>"
            ]
          },
          "metadata": {
            "needs_background": "light"
          }
        },
        {
          "output_type": "stream",
          "name": "stdout",
          "text": [
            "END OF EPOCH 30\n"
          ]
        },
        {
          "output_type": "execute_result",
          "data": {
            "text/plain": [
              "[0.0011762036282390916,\n",
              " 0.0006606821115749386,\n",
              " 0.0003103333606348635,\n",
              " 0.00025506790248609523,\n",
              " 0.00019144191017617543,\n",
              " 0.00015279905581462174,\n",
              " 0.0001383933959537939,\n",
              " 0.00011721456958839288,\n",
              " 0.00010211965798194549,\n",
              " 0.00010438434228898117,\n",
              " 8.707248675614705e-05,\n",
              " 7.911476205672125e-05,\n",
              " 7.266981066910978e-05,\n",
              " 6.194612766583405e-05,\n",
              " 5.899517538696936e-05,\n",
              " 5.16192865767029e-05,\n",
              " 4.9614190589446e-05,\n",
              " 4.599487298149568e-05,\n",
              " 4.122381869038886e-05,\n",
              " 3.6691466302526904e-05,\n",
              " 4.164154702106738e-05,\n",
              " 3.850858454097848e-05,\n",
              " 3.7792478831243875e-05,\n",
              " 3.390760535593363e-05,\n",
              " 3.195621729690683e-05,\n",
              " 3.4901202028190404e-05,\n",
              " 3.095068552948782e-05,\n",
              " 2.601253990610959e-05,\n",
              " 2.8220532511124627e-05,\n",
              " 2.5511265909295366e-05]"
            ]
          },
          "metadata": {},
          "execution_count": 10
        }
      ]
    },
    {
      "cell_type": "code",
      "metadata": {
        "id": "ShXctN3hE7c7"
      },
      "source": [
        "if not STUDENT_CHECKPOINT.parent.exists():\n",
        "    STUDENT_CHECKPOINT.parent.mkdir()\n",
        "torch.save(trainer.best_state, str(STUDENT_CHECKPOINT))"
      ],
      "execution_count": 11,
      "outputs": []
    },
    {
      "cell_type": "code",
      "metadata": {
        "colab": {
          "base_uri": "https://localhost:8080/"
        },
        "id": "fNl88QpME7c8",
        "outputId": "87577d31-1f9f-429e-d734-8126102c7891"
      },
      "source": [
        "trainer.best_score"
      ],
      "execution_count": 12,
      "outputs": [
        {
          "output_type": "execute_result",
          "data": {
            "text/plain": [
              "2.5511265909295366e-05"
            ]
          },
          "metadata": {},
          "execution_count": 12
        }
      ]
    }
  ]
}