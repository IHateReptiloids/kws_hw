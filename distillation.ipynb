{
  "nbformat": 4,
  "nbformat_minor": 0,
  "metadata": {
    "accelerator": "GPU",
    "colab": {
      "name": "distillation.ipynb",
      "provenance": [],
      "collapsed_sections": []
    },
    "interpreter": {
      "hash": "a1c596f1af581c66545f2345129b8c4b3c28d957ad11d5ef9aeff4b238a94ec9"
    },
    "kernelspec": {
      "display_name": "Python 3.9.7 64-bit ('kws_hw': pyenv)",
      "language": "python",
      "name": "python3"
    },
    "language_info": {
      "codemirror_mode": {
        "name": "ipython",
        "version": 3
      },
      "file_extension": ".py",
      "mimetype": "text/x-python",
      "name": "python",
      "nbconvert_exporter": "python",
      "pygments_lexer": "ipython3",
      "version": "3.9.7"
    },
    "orig_nbformat": 4
  },
  "cells": [
    {
      "cell_type": "code",
      "metadata": {
        "id": "A3sSnj6MGESk"
      },
      "source": [
        "%load_ext autoreload\n",
        "%autoreload 2"
      ],
      "execution_count": 1,
      "outputs": []
    },
    {
      "cell_type": "code",
      "metadata": {
        "id": "h7gRQatdI_ZQ"
      },
      "source": [
        "import os\n",
        "# to make torch.use_deterministic_algorithms(True) work\n",
        "os.environ.update({'CUBLAS_WORKSPACE_CONFIG': ':4096:8'})"
      ],
      "execution_count": 2,
      "outputs": []
    },
    {
      "cell_type": "code",
      "metadata": {
        "id": "bbUpoArCqUYa"
      },
      "source": [
        "from pathlib import Path\n",
        "\n",
        "import pandas as pd\n",
        "import torch\n",
        "\n",
        "from src.augmentations import DefaultWaveAugmentations, DefaultWave2Spec\n",
        "from src.configs import DefaultConfig, DistillationConfig\n",
        "from src.data_utils import get_dataloaders, SpeechCommandsDataset\n",
        "from src.models import CRNN\n",
        "from src.trainers import DefaultTrainer, DistillationTrainer\n",
        "from src.utils import count_parameters, seed_all"
      ],
      "execution_count": 3,
      "outputs": []
    },
    {
      "cell_type": "code",
      "metadata": {
        "id": "487hddCYGESn"
      },
      "source": [
        "CHECKPOINT_DIR = Path('checkpoints')\n",
        "DATA_DIR = Path('data/speech_commands')\n",
        "TRAIN_CSV = Path('data/train.csv')\n",
        "VAL_CSV = Path('data/val.csv')"
      ],
      "execution_count": 12,
      "outputs": []
    },
    {
      "cell_type": "code",
      "metadata": {
        "id": "-1rVkT81Pk90"
      },
      "source": [
        "train_set = SpeechCommandsDataset(DATA_DIR, csv=pd.read_csv(TRAIN_CSV))\n",
        "train_set.transforms = DefaultWaveAugmentations(DATA_DIR)\n",
        "\n",
        "val_set = SpeechCommandsDataset(DATA_DIR, csv=pd.read_csv(VAL_CSV))\n",
        "train_loader, val_loader = get_dataloaders(train_set, val_set, DefaultConfig.batch_size)\n",
        "\n",
        "train_wave2spec = DefaultWave2Spec(is_train=True, config=DefaultConfig)\n",
        "val_wave2spec = DefaultWave2Spec(is_train=False, config=DefaultConfig)"
      ],
      "execution_count": 5,
      "outputs": []
    },
    {
      "cell_type": "code",
      "metadata": {
        "id": "dPAh9nssE7cx"
      },
      "source": [
        "teacher_config = DefaultConfig()\n",
        "student_config = DistillationConfig(\n",
        "    num_epochs=30,\n",
        "    hidden_size=32,\n",
        ")"
      ],
      "execution_count": 6,
      "outputs": []
    },
    {
      "cell_type": "code",
      "metadata": {
        "colab": {
          "base_uri": "https://localhost:8080/"
        },
        "id": "rdTCPGneE7cy",
        "outputId": "8772f54a-275e-4654-f8ee-dd7e1790888c"
      },
      "source": [
        "teacher = CRNN(teacher_config)\n",
        "teacher.load_state_dict(torch.load(CHECKPOINT_DIR / 'baseline.pth',\n",
        "                        map_location=teacher_config.device))\n",
        "teacher = teacher.eval()\n",
        "print('teacher total:', count_parameters(teacher))\n",
        "print('teacher conv:', count_parameters(teacher.conv))\n",
        "print('teacher gru:', count_parameters(teacher.gru))\n",
        "print('teacher attention:', count_parameters(teacher.attention), end='\\n\\n')\n",
        "\n",
        "student = CRNN(student_config)\n",
        "student = student.train()\n",
        "print('student total:', count_parameters(student))\n",
        "print('student conv:', count_parameters(student.conv))\n",
        "print('student gru:', count_parameters(student.gru))\n",
        "print('student attention:', count_parameters(student.attention))"
      ],
      "execution_count": 7,
      "outputs": [
        {
          "output_type": "stream",
          "name": "stdout",
          "text": [
            "teacher total: 70443\n",
            "teacher conv: 808\n",
            "teacher gru: 65280\n",
            "teacher attention: 4225\n",
            "\n",
            "student total: 25387\n",
            "student conv: 808\n",
            "student gru: 23424\n",
            "student attention: 1089\n"
          ]
        }
      ]
    },
    {
      "cell_type": "markdown",
      "metadata": {
        "id": "rFLvmLCfE7c1"
      },
      "source": [
        "Проверим, что модель учителя воспроизводит нужное качество на валидации:"
      ]
    },
    {
      "cell_type": "code",
      "metadata": {
        "colab": {
          "base_uri": "https://localhost:8080/"
        },
        "id": "WNQCc9U4E7c3",
        "outputId": "458e9b13-b9af-45e5-fe9a-8e5fa4e17243"
      },
      "source": [
        "seed_all()\n",
        "DefaultTrainer(\n",
        "    opt=None,\n",
        "    train_loader=None,\n",
        "    val_loader=val_loader,\n",
        "    device=teacher_config.device,\n",
        "    model=teacher,\n",
        "    train_wave2spec=None,\n",
        "    val_wave2spec=val_wave2spec,\n",
        ").validation()"
      ],
      "execution_count": null,
      "outputs": [
        {
          "name": "stderr",
          "output_type": "stream",
          "text": [
            "100%|██████████| 102/102 [00:07<00:00, 12.78it/s]\n"
          ]
        },
        {
          "data": {
            "text/plain": [
              "1.71149264626571e-05"
            ]
          },
          "execution_count": 8,
          "metadata": {},
          "output_type": "execute_result"
        }
      ]
    },
    {
      "cell_type": "markdown",
      "metadata": {
        "id": "tf5C3Q_-E7c4"
      },
      "source": [
        "Теперь сделаем дистилляцию:"
      ]
    },
    {
      "cell_type": "code",
      "metadata": {
        "id": "wDMRnDufE7c5"
      },
      "source": [
        "opt = torch.optim.Adam(\n",
        "    student.parameters(),\n",
        "    lr=student_config.learning_rate,\n",
        "    weight_decay=student_config.weight_decay\n",
        ")"
      ],
      "execution_count": null,
      "outputs": []
    },
    {
      "cell_type": "code",
      "metadata": {
        "colab": {
          "base_uri": "https://localhost:8080/",
          "height": 800
        },
        "id": "xc1Nvdk6E7c6",
        "outputId": "d2fe78e8-8b31-45e1-c67d-8f5178b33fca"
      },
      "source": [
        "seed_all()\n",
        "trainer = DistillationTrainer(\n",
        "    opt=opt,\n",
        "    train_loader=train_loader,\n",
        "    val_loader=val_loader,\n",
        "    device=student_config.device,\n",
        "    teacher=teacher,\n",
        "    student=student,\n",
        "    train_wave2spec=train_wave2spec,\n",
        "    val_wave2spec=val_wave2spec,\n",
        "    temp=student_config.temp,\n",
        "    alpha=student_config.alpha,\n",
        ")\n",
        "trainer.train(n_epochs=student_config.num_epochs)"
      ],
      "execution_count": null,
      "outputs": [
        {
          "data": {
            "image/png": "[encoded data removed]",
            "text/plain": [
              "<Figure size 432x288 with 1 Axes>"
            ]
          },
          "metadata": {
            "needs_background": "light"
          },
          "output_type": "display_data"
        },
        {
          "name": "stdout",
          "output_type": "stream",
          "text": [
            "END OF EPOCH 30\n"
          ]
        },
        {
          "data": {
            "text/plain": [
              "[0.0011762036282390916,\n",
              " 0.0006606821115749386,\n",
              " 0.0003103333606348635,\n",
              " 0.00025506790248609523,\n",
              " 0.00019144191017617543,\n",
              " 0.00015279905581462174,\n",
              " 0.0001383933959537939,\n",
              " 0.00011721456958839288,\n",
              " 0.00010211965798194549,\n",
              " 0.00010438434228898117,\n",
              " 8.707248675614705e-05,\n",
              " 7.911476205672125e-05,\n",
              " 7.266981066910978e-05,\n",
              " 6.194612766583405e-05,\n",
              " 5.899517538696936e-05,\n",
              " 5.16192865767029e-05,\n",
              " 4.9614190589446e-05,\n",
              " 4.599487298149568e-05,\n",
              " 4.122381869038886e-05,\n",
              " 3.6691466302526904e-05,\n",
              " 4.164154702106738e-05,\n",
              " 3.850858454097848e-05,\n",
              " 3.7792478831243875e-05,\n",
              " 3.390760535593363e-05,\n",
              " 3.195621729690683e-05,\n",
              " 3.4901202028190404e-05,\n",
              " 3.095068552948782e-05,\n",
              " 2.601253990610959e-05,\n",
              " 2.8220532511124627e-05,\n",
              " 2.5511265909295366e-05]"
            ]
          },
          "execution_count": 10,
          "metadata": {},
          "output_type": "execute_result"
        }
      ]
    },
    {
      "cell_type": "code",
      "metadata": {
        "id": "ShXctN3hE7c7"
      },
      "source": [
        "torch.save(trainer.best_state, CHECKPOINT_DIR / 'distillated_hs32.pth')"
      ],
      "execution_count": null,
      "outputs": []
    },
    {
      "cell_type": "code",
      "metadata": {
        "colab": {
          "base_uri": "https://localhost:8080/"
        },
        "id": "fNl88QpME7c8",
        "outputId": "87577d31-1f9f-429e-d734-8126102c7891"
      },
      "source": [
        "trainer.best_score"
      ],
      "execution_count": null,
      "outputs": [
        {
          "data": {
            "text/plain": [
              "2.5511265909295366e-05"
            ]
          },
          "execution_count": 12,
          "metadata": {},
          "output_type": "execute_result"
        }
      ]
    },
    {
      "cell_type": "markdown",
      "metadata": {
        "id": "K-BD_of_GUqb"
      },
      "source": [
        "Теперь попробуем еще уменьшить `hidden_size`:"
      ]
    },
    {
      "cell_type": "code",
      "metadata": {
        "id": "rIBdp265GUqb"
      },
      "source": [
        "student_config = DistillationConfig(\n",
        "    num_epochs=30,\n",
        "    hidden_size=16,\n",
        ")\n",
        "student = CRNN(student_config)\n",
        "student = student.train()\n",
        "opt = torch.optim.Adam(\n",
        "    student.parameters(),\n",
        "    lr=student_config.learning_rate,\n",
        "    weight_decay=student_config.weight_decay\n",
        ")"
      ],
      "execution_count": null,
      "outputs": []
    },
    {
      "cell_type": "code",
      "metadata": {
        "colab": {
          "base_uri": "https://localhost:8080/",
          "height": 800
        },
        "id": "NorB6Es0GUqc",
        "outputId": "758cb9e5-3cf2-47ec-c3bb-4eab80ca5b3e"
      },
      "source": [
        "seed_all()\n",
        "trainer = DistillationTrainer(\n",
        "    opt=opt,\n",
        "    train_loader=train_loader,\n",
        "    val_loader=val_loader,\n",
        "    device=student_config.device,\n",
        "    teacher=teacher,\n",
        "    student=student,\n",
        "    train_wave2spec=train_wave2spec,\n",
        "    val_wave2spec=val_wave2spec,\n",
        "    temp=student_config.temp,\n",
        "    alpha=student_config.alpha,\n",
        ")\n",
        "trainer.train(n_epochs=student_config.num_epochs)"
      ],
      "execution_count": null,
      "outputs": [
        {
          "data": {
            "image/png": "[encoded data removed]",
            "text/plain": [
              "<Figure size 432x288 with 1 Axes>"
            ]
          },
          "metadata": {},
          "output_type": "display_data"
        },
        {
          "name": "stdout",
          "output_type": "stream",
          "text": [
            "END OF EPOCH 30\n"
          ]
        },
        {
          "data": {
            "text/plain": [
              "[0.0009902787158016632,\n",
              " 0.0009735218421938732,\n",
              " 0.0006159255047165259,\n",
              " 0.0004587880418104286,\n",
              " 0.00034768125717131383,\n",
              " 0.00028779393342096677,\n",
              " 0.0002550410485219801,\n",
              " 0.00020198059920443638,\n",
              " 0.00017461044222362158,\n",
              " 0.0001651727657240776,\n",
              " 0.00012672385665891034,\n",
              " 0.00011855428402035471,\n",
              " 0.00012352823492921966,\n",
              " 0.0001112589571024334,\n",
              " 0.0001057777646491731,\n",
              " 8.4789899806368e-05,\n",
              " 9.017262772453979e-05,\n",
              " 7.601163731453795e-05,\n",
              " 8.186281771782779e-05,\n",
              " 7.624735544399225e-05,\n",
              " 6.798230204413867e-05,\n",
              " 6.889235305025974e-05,\n",
              " 6.716176425173442e-05,\n",
              " 7.266384312152867e-05,\n",
              " 6.263836318524416e-05,\n",
              " 7.74408649602166e-05,\n",
              " 5.9639670525730496e-05,\n",
              " 6.288601640986071e-05,\n",
              " 5.641421105813421e-05,\n",
              " 5.0938986152455024e-05]"
            ]
          },
          "metadata": {},
          "output_type": "display_data"
        }
      ]
    },
    {
      "cell_type": "code",
      "metadata": {
        "colab": {
          "base_uri": "https://localhost:8080/"
        },
        "id": "N9WQ9NwTGUqc",
        "outputId": "09a24982-000b-4a21-b92a-2c62a9a28c42"
      },
      "source": [
        "trainer.best_score"
      ],
      "execution_count": null,
      "outputs": [
        {
          "data": {
            "text/plain": [
              "5.0938986152455024e-05"
            ]
          },
          "metadata": {},
          "output_type": "display_data"
        }
      ]
    },
    {
      "cell_type": "markdown",
      "metadata": {
        "id": "wsfJ4zWHGUqd"
      },
      "source": [
        "Как мы видим, даже так получается приемлемое качество. Но если посмотреть на график, то возникает подозрение, что модель недообучилась. Давайте сделаем еще 10 эпох:"
      ]
    },
    {
      "cell_type": "code",
      "metadata": {
        "colab": {
          "base_uri": "https://localhost:8080/",
          "height": 475
        },
        "id": "P1hK151SGUqd",
        "outputId": "a315ef82-48bc-4130-cdc3-856dcfecddf3"
      },
      "source": [
        "seed_all()\n",
        "trainer = DistillationTrainer(\n",
        "    opt=opt,\n",
        "    train_loader=train_loader,\n",
        "    val_loader=val_loader,\n",
        "    device=student_config.device,\n",
        "    teacher=teacher,\n",
        "    student=student,\n",
        "    train_wave2spec=train_wave2spec,\n",
        "    val_wave2spec=val_wave2spec,\n",
        "    temp=student_config.temp,\n",
        "    alpha=student_config.alpha,\n",
        ")\n",
        "trainer.train(n_epochs=10)"
      ],
      "execution_count": null,
      "outputs": [
        {
          "data": {
            "image/png": "[encoded data removed]",
            "text/plain": [
              "<Figure size 432x288 with 1 Axes>"
            ]
          },
          "metadata": {},
          "output_type": "display_data"
        },
        {
          "name": "stdout",
          "output_type": "stream",
          "text": [
            "END OF EPOCH 10\n"
          ]
        },
        {
          "data": {
            "text/plain": [
              "[5.1106077484726434e-05,\n",
              " 5.3934695038178137e-05,\n",
              " 5.1574529969844476e-05,\n",
              " 4.445822947935684e-05,\n",
              " 4.3879377363988024e-05,\n",
              " 4.799996896875258e-05,\n",
              " 4.1176078309739884e-05,\n",
              " 5.065254386856118e-05,\n",
              " 5.1046402008915224e-05,\n",
              " 4.2292009707409655e-05]"
            ]
          },
          "metadata": {},
          "output_type": "display_data"
        }
      ]
    },
    {
      "cell_type": "code",
      "metadata": {
        "id": "2AMqsz9CGUqe"
      },
      "source": [
        "torch.save(trainer.best_state, CHECKPOINT_DIR / 'distillated_hs16.pth')"
      ],
      "execution_count": null,
      "outputs": []
    },
    {
      "cell_type": "code",
      "metadata": {
        "colab": {
          "base_uri": "https://localhost:8080/"
        },
        "id": "0zQxEeOQGUqe",
        "outputId": "f02419fc-9f96-4a11-9da5-972b605e43f0"
      },
      "source": [
        "trainer.best_score"
      ],
      "execution_count": null,
      "outputs": [
        {
          "data": {
            "text/plain": [
              "4.1176078309739884e-05"
            ]
          },
          "metadata": {},
          "output_type": "display_data"
        }
      ]
    },
    {
      "cell_type": "markdown",
      "metadata": {
        "id": "549QLuR3L63Z"
      },
      "source": [
        "Теперь попробуем еще уменьшить сверточную сеть:"
      ]
    },
    {
      "cell_type": "code",
      "metadata": {
        "id": "vgjW76mAMCwM"
      },
      "source": [
        "student_config = DistillationConfig(\n",
        "    num_epochs=50,\n",
        "    hidden_size=16,\n",
        "    cnn_out_channels=4,\n",
        "    stride=(5, 10),\n",
        "    kernel_size=(10, 20),\n",
        ")\n",
        "student = CRNN(student_config)\n",
        "student = student.train()\n",
        "opt = torch.optim.Adam(\n",
        "    student.parameters(),\n",
        "    lr=student_config.learning_rate,\n",
        "    weight_decay=student_config.weight_decay\n",
        ")"
      ],
      "execution_count": 9,
      "outputs": []
    },
    {
      "cell_type": "code",
      "metadata": {
        "colab": {
          "base_uri": "https://localhost:8080/",
          "height": 1000
        },
        "id": "7bW-R4BsNNi8",
        "outputId": "5a618bbb-6268-4f33-84be-48ae46983a30"
      },
      "source": [
        "seed_all()\n",
        "trainer = DistillationTrainer(\n",
        "    opt=opt,\n",
        "    train_loader=train_loader,\n",
        "    val_loader=val_loader,\n",
        "    device=student_config.device,\n",
        "    teacher=teacher,\n",
        "    student=student,\n",
        "    train_wave2spec=train_wave2spec,\n",
        "    val_wave2spec=val_wave2spec,\n",
        "    temp=student_config.temp,\n",
        "    alpha=student_config.alpha,\n",
        ")\n",
        "trainer.train(n_epochs=student_config.num_epochs)"
      ],
      "execution_count": 10,
      "outputs": [
        {
          "output_type": "display_data",
          "data": {
            "image/png": "[encoded data removed]",
            "text/plain": [
              "<Figure size 432x288 with 1 Axes>"
            ]
          },
          "metadata": {
            "needs_background": "light"
          }
        },
        {
          "output_type": "stream",
          "name": "stdout",
          "text": [
            "END OF EPOCH 50\n"
          ]
        },
        {
          "output_type": "execute_result",
          "data": {
            "text/plain": [
              "[0.0011556364755007556,\n",
              " 0.0007572698529491842,\n",
              " 0.00048278951818170015,\n",
              " 0.00038144862515909105,\n",
              " 0.00030467612552796013,\n",
              " 0.00023687881745883618,\n",
              " 0.0002054179066111625,\n",
              " 0.00018639933247012753,\n",
              " 0.00015711657648956329,\n",
              " 0.0001482279143674825,\n",
              " 0.0001481831577606241,\n",
              " 0.0001270699744186154,\n",
              " 0.00013276003103721495,\n",
              " 0.00013032228785032674,\n",
              " 0.00010720699229485176,\n",
              " 9.650121193431938e-05,\n",
              " 9.031584886648672e-05,\n",
              " 8.399323220428823e-05,\n",
              " 7.830914313326982e-05,\n",
              " 7.776012875580661e-05,\n",
              " 7.225506611222184e-05,\n",
              " 6.983224179428641e-05,\n",
              " 6.767795711750146e-05,\n",
              " 6.788980505663129e-05,\n",
              " 6.894307720469927e-05,\n",
              " 6.567882867782568e-05,\n",
              " 6.244143411506714e-05,\n",
              " 5.809705947601053e-05,\n",
              " 5.730039187393078e-05,\n",
              " 5.525352305360604e-05,\n",
              " 5.344833991031671e-05,\n",
              " 5.81298809877067e-05,\n",
              " 5.3349875375228196e-05,\n",
              " 5.061972235686502e-05,\n",
              " 5.1738637528325336e-05,\n",
              " 5.1822183194461045e-05,\n",
              " 4.89428414865698e-05,\n",
              " 4.9277024151112624e-05,\n",
              " 4.517433518909144e-05,\n",
              " 5.048843631008034e-05,\n",
              " 4.8945825260360374e-05,\n",
              " 3.6998795002954676e-05,\n",
              " 3.775070599817602e-05,\n",
              " 3.901582608537382e-05,\n",
              " 4.457161288339815e-05,\n",
              " 3.997958501972498e-05,\n",
              " 3.658703421985728e-05,\n",
              " 3.522643337136153e-05,\n",
              " 3.904566382327943e-05,\n",
              " 3.4814672588264125e-05]"
            ]
          },
          "metadata": {},
          "execution_count": 10
        }
      ]
    },
    {
      "cell_type": "code",
      "metadata": {
        "id": "cHQajyn5RUaf"
      },
      "source": [
        "torch.save(trainer.best_state, CHECKPOINT_DIR / 'distillated_hs16_c4.pth')"
      ],
      "execution_count": 13,
      "outputs": []
    },
    {
      "cell_type": "code",
      "metadata": {
        "colab": {
          "base_uri": "https://localhost:8080/"
        },
        "id": "WxK-HcDnRgFU",
        "outputId": "f2282538-deab-47f3-8674-beb58a0d50d8"
      },
      "source": [
        "trainer.best_score"
      ],
      "execution_count": 14,
      "outputs": [
        {
          "output_type": "execute_result",
          "data": {
            "text/plain": [
              "3.4814672588264125e-05"
            ]
          },
          "metadata": {},
          "execution_count": 14
        }
      ]
    }
  ]
}